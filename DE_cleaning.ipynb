{
  "nbformat": 4,
  "nbformat_minor": 0,
  "metadata": {
    "colab": {
      "provenance": []
    },
    "kernelspec": {
      "name": "python3",
      "display_name": "Python 3"
    },
    "language_info": {
      "name": "python"
    }
  },
  "cells": [
    {
      "cell_type": "code",
      "execution_count": 203,
      "metadata": {
        "id": "71Rlu8yuria2"
      },
      "outputs": [],
      "source": [
        "# Libraries\n",
        "import pandas as pd\n",
        "import os\n",
        "from ast import literal_eval"
      ]
    },
    {
      "cell_type": "code",
      "source": [
        "# Function for saving files\n",
        "\n",
        "def unnest_dataset(df:pd.DataFrame, target_col:str, id_col:str = 'WineID') -> pd.DataFrame:\n",
        "  '''\n",
        "  Unnests list-value columns and creating a separate df\n",
        "  '''\n",
        "\n",
        "  new_data = df[[target_col, id_col]]\n",
        "  new_data = new_data.explode(df)\n",
        "  return new_data\n",
        "\n",
        "\n",
        "# Function for creating acronyms\n",
        "\n",
        "def create_acronym(name:str) -> pd.DataFrame:\n",
        "    \"\"\"\n",
        "    Creates an acronym from the given name. The acronym is formed by taking\n",
        "    the first letter of each word in the name.\n",
        "    \"\"\"\n",
        "    words = name.split()\n",
        "    acronym = '_'.join(word[0] + word[-1] for word in words)\n",
        "    return acronym"
      ],
      "metadata": {
        "id": "8PCOabuhvofq"
      },
      "execution_count": 204,
      "outputs": []
    },
    {
      "cell_type": "markdown",
      "source": [
        "Step 1"
      ],
      "metadata": {
        "id": "JCC8DmsYYqQk"
      }
    },
    {
      "cell_type": "code",
      "source": [
        "# Reading data\n",
        "\n",
        "# XWines_Slim_1K_wines.csv\n",
        "wines = pd.read_csv('XWines_Slim_1K_wines.csv',\n",
        "\n",
        "                      dtype = {'WineID': int, 'WineName': str,\n",
        "                               'Type': str, 'Elaborate':str,\n",
        "                               'ABV': float, 'Body': str,\n",
        "                               'Acidity':str, 'Code': str,\n",
        "                               'Country': str, 'RegionID': int,\n",
        "                               'RegionName': str, 'WineryID': int,\n",
        "                               'Wineryname': str, 'Website': str},\n",
        "\n",
        "                      converters = {'Grapes': literal_eval,\n",
        "                                    'Harmonize':literal_eval,\n",
        "                                    'Vintages': literal_eval})\n",
        "\n",
        "# XWines_Slim_150K_ratings dataset\n",
        "ratings = pd.read_csv('XWines_Slim_150K_ratings.csv', sep = ',', parse_dates=['Date'])"
      ],
      "metadata": {
        "id": "rVAL3fbTKwsi",
        "colab": {
          "base_uri": "https://localhost:8080/"
        },
        "outputId": "792ddc57-0ff2-477b-ba1e-df7a64a19799"
      },
      "execution_count": 205,
      "outputs": [
        {
          "output_type": "stream",
          "name": "stderr",
          "text": [
            "<ipython-input-205-8ad174b615e5>:19: DtypeWarning: Columns (3) have mixed types. Specify dtype option on import or set low_memory=False.\n",
            "  ratings = pd.read_csv('XWines_Slim_150K_ratings.csv', sep = ',', parse_dates=['Date'])\n"
          ]
        }
      ]
    },
    {
      "cell_type": "markdown",
      "source": [
        "Step 2"
      ],
      "metadata": {
        "id": "owDlVlp3Yto6"
      }
    },
    {
      "cell_type": "code",
      "source": [
        "# Edit data type\n",
        "ratings['WineID'] = ratings['WineID'].astype(int)\n",
        "\n",
        "# Delete redundant columns\n",
        "redund_cols = ['Code', 'Grapes', 'WineryID', 'Website', 'Vintages']\n",
        "\n",
        "# Create cleaned_wines frame\n",
        "if any(col in wines.columns for col in redund_cols):\n",
        "  cleaned_wines = wines.drop(redund_cols, axis=1)"
      ],
      "metadata": {
        "id": "dFqaZ7baEcdz"
      },
      "execution_count": 206,
      "outputs": []
    },
    {
      "cell_type": "markdown",
      "source": [
        "Step 3"
      ],
      "metadata": {
        "id": "Q0u66slAYvUe"
      }
    },
    {
      "cell_type": "code",
      "source": [
        "# Creating frame for Regions\n",
        "regions_db = cleaned_wines[['RegionID', 'RegionName', 'WineID']]\n",
        "\n",
        "# Creating frame for Rating\n",
        "rating_db = ratings[['RatingID', 'WineID', 'Rating']]\n",
        "\n",
        "# Creating frame for Harmonize\n",
        "harmonize_db = cleaned_wines[['WineID', 'Harmonize']]\n",
        "harmonize_db = harmonize_db.explode('Harmonize')\n",
        "harmonize_db['HarmonizeID'] = list(range(1000001, 1000001\n",
        "                                         + len(harmonize_db['Harmonize'])))"
      ],
      "metadata": {
        "id": "GFsxA_ZCWBuq"
      },
      "execution_count": 207,
      "outputs": []
    },
    {
      "cell_type": "markdown",
      "source": [
        "Step 4"
      ],
      "metadata": {
        "id": "ma5uSOKaYwkJ"
      }
    },
    {
      "cell_type": "code",
      "source": [
        "# Calc mean rating\n",
        "mean_rating = rating_db.groupby(['WineID']).agg({'Rating': 'mean'}) \\\n",
        "                     .reset_index().round(2)\n",
        "\n",
        "# Merge wine & ratings\n",
        "cleaned_wines['Rating'] = mean_rating['Rating']"
      ],
      "metadata": {
        "id": "OFz-qIQcQl01"
      },
      "execution_count": 208,
      "outputs": []
    },
    {
      "cell_type": "markdown",
      "source": [
        "Step 5"
      ],
      "metadata": {
        "id": "adQrDQUAYx5Y"
      }
    },
    {
      "cell_type": "code",
      "source": [
        "# Create frame - counting names\n",
        "wine_name_freq = cleaned_wines['WineName'].value_counts()\n",
        "\n",
        "# Edit frame – shape & colnames\n",
        "wine_name_freq = wine_name_freq.to_frame().reset_index() \\\n",
        "                 .rename(columns = {'index': 'WineName', 'WineName': 'count'})\n",
        "\n",
        "# Filter duplicated names\n",
        "dupl_names = wine_name_freq.query('count > 1')\n",
        "\n",
        "# Select duplicated names in main data-set\n",
        "dupl_names_frame = cleaned_wines[cleaned_wines['WineName'].isin(dupl_names['WineName'])]\n",
        "\n",
        "\n",
        "\n",
        "# Create acronym for each region name\n",
        "cleaned_wines['WineryAcronym'] = cleaned_wines['WineryName'].apply(create_acronym)\n",
        "\n",
        "# Combine wine name with its region acronym\n",
        "cleaned_wines['WineName'] = cleaned_wines['WineName'] + ' ' + cleaned_wines['WineryAcronym']\n",
        "\n",
        "# Drop the temporary column\n",
        "if 'WineryAcronym' in cleaned_wines.columns:\n",
        "  cleaned_wines.drop('WineryAcronym', axis=1, inplace=True)"
      ],
      "metadata": {
        "id": "zXOLN5qSGM5P"
      },
      "execution_count": 209,
      "outputs": []
    },
    {
      "cell_type": "markdown",
      "source": [
        "Step 6"
      ],
      "metadata": {
        "id": "DDUCz3VkY9PB"
      }
    },
    {
      "cell_type": "code",
      "source": [
        "# Creating frame for Harmonize\n",
        "wine_ratings_db = cleaned_wines.drop(columns = {'RegionID', 'RegionName',\n",
        "                                               'WineryName'})"
      ],
      "metadata": {
        "id": "lyCuD7f6V6pf"
      },
      "execution_count": 210,
      "outputs": []
    },
    {
      "cell_type": "code",
      "source": [
        "# Additional for Tableau – change float types by comma\n",
        "wine_ratings_db['ABV']= wine_ratings_db['ABV'].astype(\"string\")\n",
        "wine_ratings_db['Rating'] = wine_ratings_db['Rating'].astype('string')\n",
        "\n",
        "wine_ratings_db['ABV'] = wine_ratings_db['ABV'].str.replace('.', ',', regex=True)\n",
        "wine_ratings_db['Rating'] = wine_ratings_db['Rating'].str.replace('.', ',', regex=True)"
      ],
      "metadata": {
        "id": "ZByZJAKfT76T"
      },
      "execution_count": 211,
      "outputs": []
    }
  ]
}