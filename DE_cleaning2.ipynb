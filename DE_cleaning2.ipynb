{
  "nbformat": 4,
  "nbformat_minor": 0,
  "metadata": {
    "colab": {
      "provenance": []
    },
    "kernelspec": {
      "name": "python3",
      "display_name": "Python 3"
    },
    "language_info": {
      "name": "python"
    }
  },
  "cells": [
    {
      "cell_type": "code",
      "execution_count": null,
      "metadata": {
        "id": "71Rlu8yuria2"
      },
      "outputs": [],
      "source": [
        "# Libraries\n",
        "import pandas as pd\n",
        "import os\n",
        "from ast import literal_eval"
      ]
    },
    {
      "cell_type": "markdown",
      "source": [
        "**Step 1:** db-creation  \n",
        "- Firstly, we load two datasets (Python)"
      ],
      "metadata": {
        "id": "KTg82iPUy2Rn"
      }
    },
    {
      "cell_type": "markdown",
      "source": [
        "## Schema №1\n",
        "We divide the automation in two domains:\n",
        "1. DB-creation (reading & exporting to DB) using Python\n",
        "2. DB-query (editing columns and joining tabels together) using SQL"
      ],
      "metadata": {
        "id": "U7kcjbFzmyuR"
      }
    },
    {
      "cell_type": "code",
      "source": [
        "# Reading data\n",
        "\n",
        "# XWines_Slim_1K_wines.csv\n",
        "wines = pd.read_csv('XWines_Slim_1K_wines.csv',\n",
        "\n",
        "                      dtype = {'WineID': int, 'WineName': str,\n",
        "                               'Type': str, 'Elaborate':str,\n",
        "                               'ABV': float, 'Body': str,\n",
        "                               'Acidity':str, 'Code': str,\n",
        "                               'Country': str, 'RegionID': int,\n",
        "                               'RegionName': str, 'WineryID': int,\n",
        "                               'Wineryname': str, 'Website': str},\n",
        "\n",
        "                      converters = {'Grapes': literal_eval,\n",
        "                                    'Harmonize':literal_eval,\n",
        "                                    'Vintages': literal_eval})\n",
        "\n",
        "# XWines_Slim_150K_ratings dataset\n",
        "ratings = pd.read_csv('XWines_Slim_150K_ratings.csv',\n",
        "                      sep = ',', parse_dates=['Date'])"
      ],
      "metadata": {
        "colab": {
          "base_uri": "https://localhost:8080/"
        },
        "id": "2qB6wQZ8m2Nc",
        "outputId": "e69e7aee-33e0-4bc8-c2e8-d3b0285764e1"
      },
      "execution_count": null,
      "outputs": [
        {
          "output_type": "stream",
          "name": "stderr",
          "text": [
            "<ipython-input-110-d3c73b8378af>:19: DtypeWarning: Columns (3) have mixed types. Specify dtype option on import or set low_memory=False.\n",
            "  ratings = pd.read_csv('XWines_Slim_150K_ratings.csv',\n"
          ]
        }
      ]
    },
    {
      "cell_type": "markdown",
      "source": [
        "**Step 2:** db-creation\n",
        "- Secondly, we edit datatype and delete redundant columns (Python)"
      ],
      "metadata": {
        "id": "sse13WJ2y2wX"
      }
    },
    {
      "cell_type": "code",
      "source": [
        "# Edit data type\n",
        "ratings['WineID'] = ratings['WineID'].astype(int)\n",
        "\n",
        "# Delete redundant columns\n",
        "redund_cols = ['Code', 'Grapes', 'WineryID', 'Website']\n",
        "\n",
        "# Create cleaned_wines frame\n",
        "if any(col in wines.columns for col in redund_cols):\n",
        "  cleaned_wines = wines.drop(redund_cols, axis=1)"
      ],
      "metadata": {
        "id": "lErzT_oRm2LN"
      },
      "execution_count": null,
      "outputs": []
    },
    {
      "cell_type": "markdown",
      "source": [
        "**Step 3:** db-creation\n",
        "- Thirdly, we create separate datasets & adding id for each (Python)\n",
        "- Add joined_table"
      ],
      "metadata": {
        "id": "Twgn7HQey3Hu"
      }
    },
    {
      "cell_type": "code",
      "source": [
        "# Creating frame for Regions\n",
        "regions_db = cleaned_wines[['RegionID', 'RegionName']].drop_duplicates()\n",
        "\n",
        "# Creating frame for Rating\n",
        "rating_db = ratings[['RatingID', 'Rating']]\n",
        "\n",
        "# Creating frame for Harmonize:\n",
        "  # Unnest list-values\n",
        "unnested_harmonize = cleaned_wines[['Harmonize', 'WineID']].explode('Harmonize')\n",
        "\n",
        "  # Get unique harmonize-values\n",
        "unique_harmonize = unnested_harmonize['Harmonize'].unique()\n",
        "\n",
        "  # Create ID for unique harmonize\n",
        "harmonize_db = pd.DataFrame()\n",
        "harmonize_db['HarmonizeID'] = list(range(1000001, 1000001 + len(unique_harmonize)))\n",
        "harmonize_db['Harmonize'] = unique_harmonize\n",
        "\n",
        "  # Merge with WineID\n",
        "harmonize_db = pd.merge(harmonize_db, unnested_harmonize, on = 'Harmonize')\n",
        "\n",
        "# Creating frame for Wine:\n",
        "wines_db = cleaned_wines\n",
        "\n",
        "# Join: Region & Wine with Rating\n",
        "joined_table_db = wines_db[['WineID', 'RegionID']] \\\n",
        "                .merge(ratings[['RatingID', 'WineID']], on='WineID')\n",
        "\n",
        "# Join with Harmonize\n",
        "joined_table_db = joined_table_db.merge(harmonize_db[['HarmonizeID', 'WineID']])\n",
        "\n",
        "# Delete redundant column in harmonize_db & make uniq values\n",
        "if 'WineID' in harmonize_db.columns:\n",
        "  harmonize_db = harmonize_db.drop(columns = {'WineID'}).drop_duplicates()"
      ],
      "metadata": {
        "id": "3lXepP9dm2H-"
      },
      "execution_count": null,
      "outputs": []
    },
    {
      "cell_type": "markdown",
      "source": [
        "---\n",
        "**Step 1:** db-query (SQL)\n",
        "- we calculate mean rating for each wine\n",
        "- merge wine data & rating column"
      ],
      "metadata": {
        "id": "fb5m7j-8y3d8"
      }
    },
    {
      "cell_type": "code",
      "source": [
        "# Join to get WineID\n",
        "rating_db_wine = rating_db.merge(joined_table_db[['RatingID', 'WineID']], on = 'RatingID') \\\n",
        "                          .drop_duplicates()\n",
        "\n",
        "# Calc mean rating\n",
        "mean_rating = rating_db_wine.groupby(['WineID']).agg({'Rating': 'mean'}) \\\n",
        "                     .reset_index().round(2)\n",
        "\n",
        "# Merge wine & ratings\n",
        "wines_db = wines_db.merge(mean_rating, on = 'WineID')"
      ],
      "metadata": {
        "id": "BSquYHACm2FY"
      },
      "execution_count": null,
      "outputs": []
    },
    {
      "cell_type": "markdown",
      "source": [
        "**Step 2:** db-query (SQL)\n",
        "- edit WineName values: adding Winery name to each wine"
      ],
      "metadata": {
        "id": "YfrSM6Nry3wS"
      }
    },
    {
      "cell_type": "code",
      "source": [
        "# Combine wine name with its region acronym\n",
        "wines_db['WineName'] = wines_db['WineName'] + ' (' + wines_db['WineryName'] + ')'"
      ],
      "metadata": {
        "id": "kDfbE31tnrrJ"
      },
      "execution_count": null,
      "outputs": []
    },
    {
      "cell_type": "markdown",
      "source": [
        "**Step 3:** db-query (SQL)\n",
        "- We drop redundant columns"
      ],
      "metadata": {
        "id": "vHePXMyyy4JD"
      }
    },
    {
      "cell_type": "code",
      "source": [
        "# Delete redundant columns\n",
        "redund_cols = ['RegionID', 'RegionName', 'WineryName']\n",
        "\n",
        "if any(col in wines_db.columns for col in redund_cols):\n",
        "  wines_db = wines_db.drop(redund_cols, axis=1)"
      ],
      "metadata": {
        "id": "xQx5UooJnrow"
      },
      "execution_count": null,
      "outputs": []
    },
    {
      "cell_type": "markdown",
      "source": [
        "**Step 4:** db-query (SQL)\n",
        "- We delete brackets for Vintages columns"
      ],
      "metadata": {
        "id": "w6OSuDLm2rZw"
      }
    },
    {
      "cell_type": "code",
      "source": [
        "wines_db['Vintages'] = wines_db['Vintages'].astype(str)\n",
        "wines_db['Vintages'] = wines_db['Vintages'].str.replace(r\"\\[\",\"\")\n",
        "wines_db['Vintages'] = wines_db['Vintages'].str.replace(r\"\\]\",\"\")"
      ],
      "metadata": {
        "colab": {
          "base_uri": "https://localhost:8080/"
        },
        "id": "AGJ-6nhF1Pbc",
        "outputId": "ba5aafc0-4bbf-4858-bfd6-18e24cba2b23"
      },
      "execution_count": null,
      "outputs": [
        {
          "output_type": "stream",
          "name": "stderr",
          "text": [
            "<ipython-input-97-af72363df3be>:2: FutureWarning: The default value of regex will change from True to False in a future version.\n",
            "  wines_db['Vintages'] = wines_db['Vintages'].str.replace(r\"\\[\",\"\")\n",
            "<ipython-input-97-af72363df3be>:3: FutureWarning: The default value of regex will change from True to False in a future version.\n",
            "  wines_db['Vintages'] = wines_db['Vintages'].str.replace(r\"\\]\",\"\")\n"
          ]
        }
      ]
    },
    {
      "cell_type": "markdown",
      "source": [
        "**Step 5:** db-query (SQL)\n",
        "- We change dots with commas for Tableau"
      ],
      "metadata": {
        "id": "k_fvvTbsy4dt"
      }
    },
    {
      "cell_type": "code",
      "source": [
        "# Additional for Tableau – change float types by comma\n",
        "wines_db['ABV']= wines_db['ABV'].astype(\"string\")\n",
        "wines_db['Rating'] = wines_db['Rating'].astype('string')\n",
        "\n",
        "wines_db['ABV'] = wines_db['ABV'].str.replace('.', ',', regex=True)\n",
        "wines_db['Rating'] = wines_db['Rating'].str.replace('.', ',', regex=True)"
      ],
      "metadata": {
        "id": "bR7kR0QGnrlz"
      },
      "execution_count": null,
      "outputs": []
    },
    {
      "cell_type": "markdown",
      "source": [
        "---\n",
        "## Schema №2\n",
        "We divide the automation in two domains:\n",
        "1. DB-creation (reading & exporting to DB) using Python\n",
        "2. DB-query (editing columns and joining tabels together)"
      ],
      "metadata": {
        "id": "iseTeww0kzHf"
      }
    },
    {
      "cell_type": "markdown",
      "source": [
        "**Step 1:** db-creation  \n",
        "- Firstly, we load two datasets (Python)"
      ],
      "metadata": {
        "id": "JCC8DmsYYqQk"
      }
    },
    {
      "cell_type": "code",
      "source": [
        "# Reading data\n",
        "\n",
        "# XWines_Slim_1K_wines.csv\n",
        "wines = pd.read_csv('XWines_Slim_1K_wines.csv',\n",
        "\n",
        "                      dtype = {'WineID': int, 'WineName': str,\n",
        "                               'Type': str, 'Elaborate':str,\n",
        "                               'ABV': float, 'Body': str,\n",
        "                               'Acidity':str, 'Code': str,\n",
        "                               'Country': str, 'RegionID': int,\n",
        "                               'RegionName': str, 'WineryID': int,\n",
        "                               'Wineryname': str, 'Website': str},\n",
        "\n",
        "                      converters = {'Grapes': literal_eval,\n",
        "                                    'Harmonize':literal_eval,\n",
        "                                    'Vintages': literal_eval})\n",
        "\n",
        "# XWines_Slim_150K_ratings dataset\n",
        "ratings = pd.read_csv('XWines_Slim_150K_ratings.csv',\n",
        "                      sep = ',', parse_dates=['Date'])"
      ],
      "metadata": {
        "id": "rVAL3fbTKwsi",
        "colab": {
          "base_uri": "https://localhost:8080/"
        },
        "outputId": "0f7fb3ed-3e4e-49ab-9e43-25fb403562b8"
      },
      "execution_count": null,
      "outputs": [
        {
          "output_type": "stream",
          "name": "stderr",
          "text": [
            "<ipython-input-99-d3c73b8378af>:19: DtypeWarning: Columns (3) have mixed types. Specify dtype option on import or set low_memory=False.\n",
            "  ratings = pd.read_csv('XWines_Slim_150K_ratings.csv',\n"
          ]
        }
      ]
    },
    {
      "cell_type": "markdown",
      "source": [
        "**Step 2:** db-creation\n",
        "- Secondly, we edit datatype and delete redundant columns (Python)"
      ],
      "metadata": {
        "id": "owDlVlp3Yto6"
      }
    },
    {
      "cell_type": "code",
      "source": [
        "# Edit data type\n",
        "ratings['WineID'] = ratings['WineID'].astype(int)\n",
        "\n",
        "# Delete redundant columns\n",
        "redund_cols = ['Code', 'Grapes', 'WineryID', 'Website']\n",
        "\n",
        "# Create cleaned_wines frame\n",
        "if any(col in wines.columns for col in redund_cols):\n",
        "  cleaned_wines = wines.drop(redund_cols, axis=1)"
      ],
      "metadata": {
        "id": "dFqaZ7baEcdz"
      },
      "execution_count": null,
      "outputs": []
    },
    {
      "cell_type": "markdown",
      "source": [
        "**Step 3:** db-creation\n",
        "- Thirdly, we create separate datasets & adding id for each (Python)"
      ],
      "metadata": {
        "id": "Q0u66slAYvUe"
      }
    },
    {
      "cell_type": "code",
      "source": [
        "# Creating frame for Regions\n",
        "regions_db = cleaned_wines[['RegionID', 'RegionName', 'WineID']]\n",
        "\n",
        "# Creating frame for Rating\n",
        "rating_db = ratings[['RatingID', 'WineID', 'Rating']]\n",
        "\n",
        "\n",
        "# Creating frame for Harmonize:\n",
        "  # Unnest list-values\n",
        "unnested_harmonize = cleaned_wines[['Harmonize', 'WineID']].explode('Harmonize')\n",
        "\n",
        "  # Get unique harmonize-values\n",
        "unique_harmonize = unnested_harmonize['Harmonize'].unique()\n",
        "\n",
        "  # Create ID for unique harmonize\n",
        "harmonize_db = pd.DataFrame()\n",
        "harmonize_db['HarmonizeID'] = list(range(1000001, 1000001 + len(unique_harmonize)))\n",
        "harmonize_db['Harmonize'] = unique_harmonize\n",
        "\n",
        "  # Merge with WineID\n",
        "harmonize_db = pd.merge(harmonize_db, unnested_harmonize, on = 'Harmonize')\n",
        "\n",
        "# Creating frame for Wine:\n",
        "wines_db = cleaned_wines"
      ],
      "metadata": {
        "id": "GFsxA_ZCWBuq"
      },
      "execution_count": null,
      "outputs": []
    },
    {
      "cell_type": "markdown",
      "source": [
        "---\n",
        "**Step 1:** db-query (SQL)\n",
        "- we calculate mean rating for each wine\n",
        "- merge wine data & rating column"
      ],
      "metadata": {
        "id": "ma5uSOKaYwkJ"
      }
    },
    {
      "cell_type": "code",
      "source": [
        "# Calc mean rating\n",
        "mean_rating = rating_db.groupby(['WineID']).agg({'Rating': 'mean'}) \\\n",
        "                     .reset_index().round(2)\n",
        "\n",
        "# Merge wine & ratings\n",
        "wines_db = wines_db.merge(mean_rating, on = 'WineID')"
      ],
      "metadata": {
        "id": "OFz-qIQcQl01"
      },
      "execution_count": null,
      "outputs": []
    },
    {
      "cell_type": "markdown",
      "source": [
        "**Step 2:** db-query (SQL)\n",
        "- edit WineName values: adding Winery name to each wine"
      ],
      "metadata": {
        "id": "adQrDQUAYx5Y"
      }
    },
    {
      "cell_type": "code",
      "source": [
        "# Combine wine name with its region acronym\n",
        "wines_db['WineName'] = wines_db['WineName'] + ' (' + wines_db['WineryName'] + ')'"
      ],
      "metadata": {
        "id": "zXOLN5qSGM5P"
      },
      "execution_count": null,
      "outputs": []
    },
    {
      "cell_type": "markdown",
      "source": [
        "**Step 3:** db-query (SQL)\n",
        "- We drop redundant columns"
      ],
      "metadata": {
        "id": "DDUCz3VkY9PB"
      }
    },
    {
      "cell_type": "code",
      "source": [
        "# Delete redundant columns\n",
        "redund_cols = ['RegionID', 'RegionName', 'WineryName']\n",
        "\n",
        "if any(col in wines_db.columns for col in redund_cols):\n",
        "  wines_db = wines_db.drop(redund_cols, axis=1)"
      ],
      "metadata": {
        "id": "lyCuD7f6V6pf"
      },
      "execution_count": null,
      "outputs": []
    },
    {
      "cell_type": "markdown",
      "source": [
        "**Step 4:** db-query (SQL)\n",
        "- We delete brackets for Vintages columns"
      ],
      "metadata": {
        "id": "CV7PXxp420-O"
      }
    },
    {
      "cell_type": "code",
      "source": [
        "wines_db['Vintages'] = wines_db['Vintages'].astype(str)\n",
        "wines_db['Vintages'] = wines_db['Vintages'].str.replace(r\"\\[\",\"\")\n",
        "wines_db['Vintages'] = wines_db['Vintages'].str.replace(r\"\\]\",\"\")"
      ],
      "metadata": {
        "colab": {
          "base_uri": "https://localhost:8080/"
        },
        "id": "YXDWEmoA20ZL",
        "outputId": "38822bcd-56dc-4e63-8bd1-60ef2beb7086"
      },
      "execution_count": null,
      "outputs": [
        {
          "output_type": "stream",
          "name": "stderr",
          "text": [
            "<ipython-input-105-af72363df3be>:2: FutureWarning: The default value of regex will change from True to False in a future version.\n",
            "  wines_db['Vintages'] = wines_db['Vintages'].str.replace(r\"\\[\",\"\")\n",
            "<ipython-input-105-af72363df3be>:3: FutureWarning: The default value of regex will change from True to False in a future version.\n",
            "  wines_db['Vintages'] = wines_db['Vintages'].str.replace(r\"\\]\",\"\")\n"
          ]
        }
      ]
    },
    {
      "cell_type": "markdown",
      "source": [
        "**Step 5:** db-query (SQL)\n",
        "- We change dots with commas for Tableau"
      ],
      "metadata": {
        "id": "okUNg3c2mj50"
      }
    },
    {
      "cell_type": "code",
      "source": [
        "# Additional for Tableau – change float types by comma\n",
        "wines_db['ABV']= wines_db['ABV'].astype(\"string\")\n",
        "wines_db['Rating'] = wines_db['Rating'].astype('string')\n",
        "\n",
        "wines_db['ABV'] = wines_db['ABV'].str.replace('.', ',', regex=True)\n",
        "wines_db['Rating'] = wines_db['Rating'].str.replace('.', ',', regex=True)"
      ],
      "metadata": {
        "id": "ZByZJAKfT76T"
      },
      "execution_count": null,
      "outputs": []
    },
    {
      "cell_type": "code",
      "source": [
        "# Фото добавить и все готово"
      ],
      "metadata": {
        "id": "S7IVHDnu69fL"
      },
      "execution_count": null,
      "outputs": []
    }
  ]
}